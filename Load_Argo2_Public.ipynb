{
 "cells": [
  {
   "cell_type": "markdown",
   "id": "3a056441",
   "metadata": {},
   "source": [
    "## Install the package dependencies before running this notebook"
   ]
  },
  {
   "cell_type": "code",
   "execution_count": 1,
   "id": "1cc0baa1",
   "metadata": {},
   "outputs": [
    {
     "data": {
      "text/plain": [
       "'\\n    number of trajectories in each city\\n    # austin --  train: 43041 test: 6325 \\n    # miami -- train: 55029 test:7971\\n    # pittsburgh -- train: 43544 test: 6361\\n    # dearborn -- train: 24465 test: 3671\\n    # washington-dc -- train: 25744 test: 3829\\n    # palo-alto -- train:  11993 test:1686\\n\\n    trajectories sampled at 10HZ rate, input 5 seconds, output 6 seconds\\n    \\n'"
      ]
     },
     "execution_count": 1,
     "metadata": {},
     "output_type": "execute_result"
    }
   ],
   "source": [
    "import torch\n",
    "from torch.utils.data import Dataset, DataLoader, random_split\n",
    "import os, os.path \n",
    "import numpy \n",
    "import pickle\n",
    "from glob import glob\n",
    "\n",
    "\"\"\"\n",
    "    number of trajectories in each city\n",
    "    # austin --  train: 43041 test: 6325 \n",
    "    # miami -- train: 55029 test:7971\n",
    "    # pittsburgh -- train: 43544 test: 6361\n",
    "    # dearborn -- train: 24465 test: 3671\n",
    "    # washington-dc -- train: 25744 test: 3829\n",
    "    # palo-alto -- train:  11993 test:1686\n",
    "\n",
    "    trajectories sampled at 10HZ rate, input 5 seconds, output 6 seconds\n",
    "    \n",
    "\"\"\""
   ]
  },
  {
   "cell_type": "markdown",
   "id": "2fe35f7f",
   "metadata": {},
   "source": [
    "## Create a Torch.Dataset class for the training dataset"
   ]
  },
  {
   "cell_type": "code",
   "execution_count": 2,
   "id": "82ebc9df",
   "metadata": {},
   "outputs": [],
   "source": [
    "from glob import glob\n",
    "import pickle5 as pickle\n",
    "import numpy as np\n",
    "\n",
    "ROOT_PATH = \"./argo2/\"\n",
    "\n",
    "cities = [\"austin\", \"miami\", \"pittsburgh\", \"dearborn\", \"washington-dc\", \"palo-alto\"]\n",
    "splits = [\"train\", \"test\"]\n",
    "\n",
    "def get_city_trajectories(city=\"palo-alto\", split=\"train\", normalized=False):\n",
    "    if split==\"train\" or split==\"validation\":\n",
    "        f_in = ROOT_PATH + \"train\" + \"/\" + city + \"_inputs\"\n",
    "        inputs = pickle.load(open(f_in, \"rb\"))\n",
    "        inputs = np.asarray(inputs)\n",
    "        \n",
    "        if split == \"train\":\n",
    "            inputs = inputs[:inputs.shape[0]*4//5]\n",
    "        else:\n",
    "            inputs = inputs[inputs.shape[0]*4//5:]\n",
    "        \n",
    "        f_out = ROOT_PATH + \"train\" + \"/\" + city + \"_outputs\"\n",
    "        outputs = pickle.load(open(f_out, \"rb\"))\n",
    "        outputs = np.asarray(outputs)\n",
    "        if split == \"train\":\n",
    "            outputs = outputs[:outputs.shape[0]*4//5]\n",
    "        else:\n",
    "            outputs = outputs[outputs.shape[0]*4//5:]\n",
    "    else:\n",
    "        f_in = ROOT_PATH + \"test\" + \"/\" + city + \"_inputs\"\n",
    "        inputs = pickle.load(open(f_in, \"rb\"))\n",
    "        inputs = np.asarray(inputs)\n",
    "        outputs = None\n",
    "\n",
    "    return inputs, outputs\n",
    "\n",
    "class ArgoverseDataset(Dataset):\n",
    "    \"\"\"Dataset class for Argoverse\"\"\"\n",
    "    def __init__(self, city: str, split:str, transform=None):\n",
    "        super(ArgoverseDataset, self).__init__()\n",
    "        self.transform = transform\n",
    "\n",
    "        self.inputs, self.outputs = get_city_trajectories(city=city, split=split, normalized=False)\n",
    "\n",
    "    def __len__(self):\n",
    "        return len(self.inputs)\n",
    "\n",
    "    def __getitem__(self, idx):\n",
    "\n",
    "        data = (self.inputs[idx], self.outputs[idx])\n",
    "            \n",
    "        if self.transform:\n",
    "            data = self.transform(data)\n",
    "        else:\n",
    "            #normalize start pos\n",
    "            inp = self.inputs[idx]-data[0][0]\n",
    "            out = self.outputs[idx]-data[0][0]\n",
    "            data = (inp, out)\n",
    "\n",
    "        return data\n",
    "    \n",
    "#     def split(self, split_ratio=0.2):\n",
    "#         valid_size = round(split_ratio * len(self.inputs))\n",
    "#         train_size = len(self.inputs) - valid_size\n",
    "\n",
    "#         return random_split(self, [train_size, valid_size])\n",
    "\n",
    "# intialize a dataset\n",
    "city = 'palo-alto' \n",
    "split = 'train'\n",
    "def transform(data):\n",
    "    # currently 109 input - 109 out\n",
    "    inp = np.concatenate((data[0], data[1][:-1]))\n",
    "    out = np.concatenate((data[0][1:], data[1]))\n",
    "\n",
    "    #normalize start pos\n",
    "    inp -= data[0][0]\n",
    "    out -= data[0][0]\n",
    "    return (inp, out)\n"
   ]
  },
  {
   "cell_type": "markdown",
   "id": "7aec5c54",
   "metadata": {},
   "source": [
    "## Create a DataLoader class for training"
   ]
  },
  {
   "cell_type": "code",
   "execution_count": 3,
   "id": "3500a431",
   "metadata": {},
   "outputs": [
    {
     "name": "stdout",
     "output_type": "stream",
     "text": [
      "[[0.         0.        ]\n",
      " [0.24510359 0.40461129]\n",
      " [0.55047809 0.90658306]\n",
      " [0.91428859 1.50370546]\n",
      " [1.33260374 2.18832148]\n",
      " [1.80064386 2.95016006]\n",
      " [2.30665141 3.77068149]\n",
      " [2.83659709 4.62849695]\n",
      " [3.37963539 5.5048743 ]\n",
      " [3.92558779 6.38097759]]\n",
      "[[ 0.00000000e+00  0.00000000e+00]\n",
      " [ 2.89563301e-04  1.65998256e-05]\n",
      " [ 1.11227701e-03  1.36774919e-04]\n",
      " [ 1.52206047e-03  6.15368538e-05]\n",
      " [ 1.47052523e-03 -1.45599099e-04]\n",
      " [ 1.06749825e-03 -4.63029771e-04]\n",
      " [ 6.02289883e-04 -1.03492679e-03]\n",
      " [-5.97619235e-05 -1.85323801e-03]\n",
      " [-1.24698717e-03 -3.15676569e-03]\n",
      " [-2.73345705e-03 -4.38799902e-03]]\n"
     ]
    }
   ],
   "source": [
    "batch_sz = 32  # batch size\n",
    "train_dataset  = ArgoverseDataset(city = city, split = split, transform=transform)\n",
    "print(train_dataset[0][0][0:10])\n",
    "train_loader = DataLoader(train_dataset, batch_size = batch_sz, shuffle = True)\n",
    "val_dataset = ArgoverseDataset(city = city, split = \"validation\")\n",
    "print(val_dataset[0][0][0:10])\n",
    "val_loader = DataLoader(val_dataset, batch_size=batch_sz*2, shuffle=True)"
   ]
  },
  {
   "cell_type": "markdown",
   "id": "e182f991",
   "metadata": {},
   "source": [
    "## Sample a batch of data and visualize "
   ]
  },
  {
   "cell_type": "code",
   "execution_count": 4,
   "id": "6aedccf2",
   "metadata": {},
   "outputs": [
    {
     "data": {
      "image/png": "[encoded data removed]",
      "text/plain": [
       "<Figure size 1080x216 with 32 Axes>"
      ]
     },
     "metadata": {},
     "output_type": "display_data"
    }
   ],
   "source": [
    "import matplotlib.pyplot as plt\n",
    "import random\n",
    "\n",
    "\n",
    "def show_sample_batch(sample_batch):\n",
    "    \"\"\"visualize the trajectory for a batch of samples\"\"\"\n",
    "    inp, out = sample_batch\n",
    "    batch_sz = inp.size(0)\n",
    "    agent_sz = inp.size(1)\n",
    "    \n",
    "    fig, axs = plt.subplots(1,batch_sz, figsize=(15, 3), facecolor='w', edgecolor='k')\n",
    "    fig.subplots_adjust(hspace = .5, wspace=.001)\n",
    "    axs = axs.ravel()   \n",
    "    for i in range(batch_sz):\n",
    "        axs[i].xaxis.set_ticks([])\n",
    "        axs[i].yaxis.set_ticks([])\n",
    "        \n",
    "        # first two feature dimensions are (x,y) positions\n",
    "        axs[i].scatter(inp[i,:,0], inp[i,:,1])\n",
    "        axs[i].scatter(out[i,:,0], out[i,:,1])\n",
    "\n",
    "        \n",
    "for i_batch, sample_batch in enumerate(train_loader):\n",
    "    if i_batch <= 5:\n",
    "        continue\n",
    "    inp, out = sample_batch\n",
    "    \"\"\"\n",
    "    TODO:\n",
    "      implement your Deep learning model\n",
    "      implement training routine\n",
    "    \"\"\"\n",
    "    show_sample_batch(sample_batch)\n",
    "    break"
   ]
  },
  {
   "cell_type": "markdown",
   "id": "bfcfc8dd",
   "metadata": {},
   "source": [
    "# Model Training"
   ]
  },
  {
   "cell_type": "code",
   "execution_count": 5,
   "id": "9c82b190",
   "metadata": {},
   "outputs": [
    {
     "name": "stderr",
     "output_type": "stream",
     "text": [
      "val_loss: -1.000, train_loss: -1.000, epoch #0: 300it [00:03, 78.27it/s]\n",
      "val_loss: 406.725, train_loss: 1768.859, epoch #1: 300it [00:03, 78.98it/s]\n",
      "val_loss: 251.920, train_loss: 970.450, epoch #2: 300it [00:03, 82.52it/s]\n",
      "val_loss: 193.474, train_loss: 592.159, epoch #3: 300it [00:03, 84.13it/s]\n",
      "val_loss: 165.819, train_loss: 359.162, epoch #4: 300it [00:03, 81.32it/s]\n",
      "val_loss: 178.028, train_loss: 246.927, epoch #5: 300it [00:03, 81.84it/s]\n",
      "val_loss: 165.910, train_loss: 172.276, epoch #6: 300it [00:03, 82.88it/s]\n",
      "val_loss: 166.521, train_loss: 128.183, epoch #7: 300it [00:03, 80.81it/s]\n",
      "val_loss: 193.203, train_loss: 101.210, epoch #8: 300it [00:03, 80.89it/s]\n",
      "val_loss: 139.387, train_loss: 72.888, epoch #9: 300it [00:03, 83.84it/s]\n",
      "val_loss: 141.299, train_loss: 56.279, epoch #10: 300it [00:03, 80.40it/s]\n",
      "val_loss: 159.222, train_loss: 47.102, epoch #11: 300it [00:03, 78.24it/s]\n",
      "val_loss: 175.866, train_loss: 31.294, epoch #12: 300it [00:03, 80.38it/s]\n",
      "val_loss: 173.930, train_loss: 27.180, epoch #13: 300it [00:03, 77.56it/s]\n",
      "val_loss: 184.395, train_loss: 18.512, epoch #14: 300it [00:03, 79.09it/s]\n",
      "val_loss: 200.211, train_loss: 16.888, epoch #15: 300it [00:03, 79.51it/s]\n",
      "val_loss: 180.916, train_loss: 13.404, epoch #16: 300it [00:03, 84.54it/s]\n",
      "val_loss: 179.183, train_loss: 10.126, epoch #17: 300it [00:03, 79.77it/s]\n",
      "val_loss: 164.536, train_loss: 8.091, epoch #18: 300it [00:03, 79.86it/s]\n",
      "val_loss: 224.325, train_loss: 8.039, epoch #19: 300it [00:03, 78.65it/s]\n",
      "val_loss: 140.296, train_loss: 6.362, epoch #20: 300it [00:03, 79.96it/s]\n",
      "val_loss: 105.439, train_loss: 4.770, epoch #21: 300it [00:03, 80.60it/s]\n",
      "val_loss: 101.155, train_loss: 5.178, epoch #22: 300it [00:03, 75.11it/s]\n",
      "val_loss: 137.035, train_loss: 3.212, epoch #23: 300it [00:03, 77.80it/s]\n",
      "val_loss: 111.840, train_loss: 4.240, epoch #24: 300it [00:03, 76.84it/s]\n",
      "val_loss: 109.990, train_loss: 2.786, epoch #25: 300it [00:03, 80.51it/s]\n",
      "val_loss: 142.415, train_loss: 2.190, epoch #26: 300it [00:03, 80.99it/s]\n",
      "val_loss: 172.906, train_loss: 2.428, epoch #27: 300it [00:03, 77.08it/s]\n",
      "val_loss: 131.311, train_loss: 2.740, epoch #28: 300it [00:04, 71.28it/s]\n",
      "val_loss: 135.851, train_loss: 2.625, epoch #29: 300it [00:03, 75.73it/s]\n",
      "val_loss: 155.281, train_loss: 1.856, epoch #30: 300it [00:03, 83.99it/s]\n",
      "val_loss: 127.874, train_loss: 2.200, epoch #31: 300it [00:03, 83.69it/s]\n",
      "val_loss: 153.350, train_loss: 2.074, epoch #32: 300it [00:03, 81.19it/s]\n",
      "val_loss: 122.486, train_loss: 1.708, epoch #33: 300it [00:03, 85.12it/s]\n",
      "val_loss: 113.613, train_loss: 0.939, epoch #34: 300it [00:03, 80.34it/s]\n",
      "val_loss: 149.239, train_loss: 0.960, epoch #35: 300it [00:03, 82.66it/s]\n",
      "val_loss: 155.084, train_loss: 1.422, epoch #36: 300it [00:03, 83.95it/s]\n",
      "val_loss: 129.597, train_loss: 1.367, epoch #37: 300it [00:03, 81.61it/s]\n",
      "val_loss: 115.620, train_loss: 1.084, epoch #38: 300it [00:03, 81.87it/s]\n",
      "val_loss: 196.796, train_loss: 0.867, epoch #39: 300it [00:03, 79.10it/s]\n",
      "val_loss: 148.730, train_loss: 0.812, epoch #40: 300it [00:03, 81.97it/s]\n",
      "val_loss: 58.701, train_loss: 0.660, epoch #41: 300it [00:03, 84.30it/s]\n",
      "val_loss: 60.810, train_loss: 0.643, epoch #42: 300it [00:03, 79.03it/s]\n",
      "val_loss: 76.871, train_loss: 0.711, epoch #43: 300it [00:03, 81.31it/s]\n",
      "val_loss: 97.850, train_loss: 0.529, epoch #44: 300it [00:03, 82.43it/s]\n",
      "val_loss: 82.358, train_loss: 0.517, epoch #45: 300it [00:03, 82.58it/s]\n",
      "val_loss: 81.392, train_loss: 0.670, epoch #46: 300it [00:03, 77.23it/s]\n",
      "val_loss: 68.057, train_loss: 0.580, epoch #47: 300it [00:03, 83.05it/s]\n",
      "val_loss: 84.991, train_loss: 0.460, epoch #48: 300it [00:03, 82.06it/s]\n",
      "val_loss: 96.069, train_loss: 0.645, epoch #49: 300it [00:04, 74.15it/s]\n"
     ]
    }
   ],
   "source": [
    "from models import LSTM\n",
    "from tqdm import tqdm\n",
    "\n",
    "val_iter = iter(val_loader)\n",
    "\n",
    "device = torch.device(\"cuda\" if torch.cuda.is_available() else \"cpu\")\n",
    "\n",
    "input_size = 2\n",
    "hidden_size = 128\n",
    "output_size = 2\n",
    "inp_seq_len = 50\n",
    "\n",
    "rnn = LSTM(input_size, hidden_size, output_size, device).cuda()\n",
    "criterion = torch.nn.MSELoss()\n",
    "criterion.to(device)\n",
    "opt = torch.optim.Adam(rnn.parameters(), lr=1e-3)\n",
    "# scheduler = torch.optim.lr_scheduler.ReduceLROnPlateau(opt)\n",
    "scheduler = torch.optim.lr_scheduler.StepLR(opt, 20, gamma=0.5)\n",
    "\n",
    "num_epochs = 50\n",
    "print_every = 1000\n",
    "val_every = 8\n",
    "plot_every = 500 / (batch_sz/4)\n",
    "train_loss = 0\n",
    "val_loss = 0\n",
    "train_losses = [-1]\n",
    "val_losses = [-1]\n",
    "# fig = plt.figure()\n",
    "\n",
    "rnn.train()\n",
    "for epoch in range(num_epochs):\n",
    "    current_loss = 0\n",
    "    val_iter = iter(val_loader)\n",
    "    for s_num, (x, y) in tqdm(enumerate(train_loader), \\\n",
    "                              \"val_loss: %.3f, train_loss: %.3f, epoch #%d\" % (val_losses[-1], train_losses[-1], epoch)):\n",
    "        x, y = x.to(torch.float32).to(device), y.to(torch.float32).to(device)\n",
    "        \n",
    "        opt.zero_grad()\n",
    "        loss = 0\n",
    "        \n",
    "        y_hat = rnn(x)\n",
    "        loss = criterion(y_hat, y)\n",
    "        \n",
    "        loss.backward()\n",
    "        opt.step()\n",
    "        \n",
    "        # Validate every so often\n",
    "        if s_num % val_every == 0:\n",
    "            with torch.no_grad():\n",
    "                rnn.eval()\n",
    "                vx, vy = next(val_iter)\n",
    "                vx, vy = vx.to(torch.float32).to(device), vy.to(torch.float32).to(device)\n",
    "                vy_hat = rnn(vx)\n",
    "                val_loss += criterion(vy_hat, vy)\n",
    "                del vx\n",
    "                del vy\n",
    "                rnn.train()\n",
    "        \n",
    "        # Print losses every so often\n",
    "#         if s_num % display_every == 0:\n",
    "#             with torch.no_grad():\n",
    "#                 show_sample_batch((y[:4].cpu(), y_hat[:4].cpu()))\n",
    "#                 rnn.eval()\n",
    "#                 vx, vy = next(val_iter)\n",
    "#                 vx, vy = vx.to(torch.float32).to(device), vy.to(torch.float32).to(device)\n",
    "#                 vy_hat = rnn(vx)\n",
    "#                 val_losses.append(criterion(vy_hat, vy))\n",
    "#                 show_sample_batch((vy[:4].cpu(), vy_hat[:4].cpu()))\n",
    "#                 del vx\n",
    "#                 del vy\n",
    "#                 rnn.train()\n",
    "        \n",
    "        # Keep track of average losses\n",
    "        current_loss += loss.item()\n",
    "        if s_num != 0 and s_num % plot_every == 0:\n",
    "            with torch.no_grad():\n",
    "                train_losses.append(current_loss / plot_every)\n",
    "                current_loss = 0\n",
    "                val_losses.append(val_loss / plot_every)\n",
    "                val_loss = 0\n",
    "                \n",
    "        del x\n",
    "        del y\n",
    "    scheduler.step()\n",
    "#     scheduler.step(val_losses[-1])\n",
    "        "
   ]
  },
  {
   "cell_type": "code",
   "execution_count": 6,
   "id": "1acbb307",
   "metadata": {},
   "outputs": [
    {
     "data": {
      "image/png": "[encoded data removed]",
      "text/plain": [
       "<Figure size 1080x216 with 64 Axes>"
      ]
     },
     "metadata": {},
     "output_type": "display_data"
    }
   ],
   "source": [
    "with torch.no_grad():\n",
    "    rnn.eval()\n",
    "    x, y = next(iter(val_loader))\n",
    "    x, y = x.to(torch.float32).to(device), y.to(torch.float32).to(device)\n",
    "    y_hat = rnn(x[:, :inp_seq_len])\n",
    "    show_sample_batch((x[:, :inp_seq_len].cpu(), y_hat.cpu()))"
   ]
  },
  {
   "cell_type": "code",
   "execution_count": 9,
   "id": "e0c43c3b",
   "metadata": {},
   "outputs": [
    {
     "data": {
      "image/png": "[encoded data removed]",
      "text/plain": [
       "<Figure size 432x288 with 1 Axes>"
      ]
     },
     "metadata": {
      "needs_background": "light"
     },
     "output_type": "display_data"
    }
   ],
   "source": [
    "plt.figure(1)\n",
    "plt.plot(range(len(train_losses[1:])), train_losses[1:],'-r', label=\"Training data\")\n",
    "plt.plot(range(len(val_losses[1:])), val_losses[1:],'-g', label=\"Validation data\")\n",
    "plt.gca().set_xlabel(\"Steps (1k)\")\n",
    "plt.gca().set_ylabel(\"Mean Squared Error\")\n",
    "plt.gca().set_title(\"MSE\")\n",
    "plt.legend()\n",
    "plt.show()\n",
    "\n",
    "# plt.figure(1)\n",
    "# plt.plot(range(len(val_losses[1:])), val_losses[1:],'-g', label=\"Validation data\")\n",
    "# plt.gca().set_xlabel(\"Steps (1k)\")\n",
    "# plt.gca().set_ylabel(\"Mean Squared Error\")\n",
    "# plt.gca().set_title(\"Cross Validation Error\")\n",
    "# plt.legend()\n",
    "# plt.show()\n",
    "\n",
    "# fig, ax1 = plt.subplots()\n",
    "\n",
    "# color = 'tab:red'\n",
    "# ax1.set_xlabel(\"Steps (1k)\")\n",
    "# ax1.set_ylabel(\"Validation Error\", color=color)\n",
    "# ax1.plot(range(len(val_losses[1:])), val_losses[1:], color=color, label=\"Validation data\")\n",
    "# ax1.tick_params(axis='y', labelcolor=color)\n",
    "# ax1.set_ylim([0, 850000])\n",
    "\n",
    "\n",
    "# ax2 = ax1.twinx()  # instantiate a second axes that shares the same x-axis\n",
    "\n",
    "# color = 'tab:blue'\n",
    "# ax2.set_ylabel('Train Error', color=color)  # we already handled the x-label with ax1\n",
    "# ax2.plot(range(len(train_losses[1:])), train_losses[1:],color=color, label=\"Training data\")\n",
    "# ax2.tick_params(axis='y', labelcolor=color)\n",
    "\n",
    "# fig.tight_layout()  # otherwise the right y-label is slightly clipped\n",
    "# plt.show()"
   ]
  },
  {
   "cell_type": "markdown",
   "id": "68e7ada3",
   "metadata": {},
   "source": [
    "# Examining the submission format"
   ]
  },
  {
   "cell_type": "code",
   "execution_count": null,
   "id": "fd00a257",
   "metadata": {},
   "outputs": [],
   "source": [
    "import pandas as pd"
   ]
  },
  {
   "cell_type": "code",
   "execution_count": null,
   "id": "cc4863f3",
   "metadata": {},
   "outputs": [],
   "source": [
    "sample_sub = pd.read_csv('./argo2/sample_submission.csv')\n",
    "sample_sub.head()"
   ]
  },
  {
   "cell_type": "code",
   "execution_count": null,
   "id": "c4a637e3",
   "metadata": {},
   "outputs": [],
   "source": [
    "%load_ext autoreload\n",
    "%autoreload 2"
   ]
  },
  {
   "cell_type": "code",
   "execution_count": null,
   "id": "42d5dedd",
   "metadata": {},
   "outputs": [],
   "source": [
    "from prediction import get_traj_pred"
   ]
  },
  {
   "cell_type": "code",
   "execution_count": null,
   "id": "86cc68e9",
   "metadata": {},
   "outputs": [],
   "source": [
    "num_pred_steps = 60\n",
    "all_preds = np.zeros(shape=(0, num_pred_steps * 2))\n",
    "city_col = np.array([])\n",
    "\n",
    "for city_name in cities:\n",
    "\n",
    "    print(\"Processing city\", city_name)\n",
    "    \n",
    "    test_traj_in, test_traj_out = get_city_trajectories(city=city_name, split=\"test\")\n",
    "    print(test_traj_in.shape)\n",
    "\n",
    "    test_pred_arr = np.random.rand(test_traj_in.shape[0], 60, 2)\n",
    "    print(test_pred_arr.shape)\n",
    "    \n",
    "    test_pred_arr_reshaped = np.reshape(test_pred_arr, newshape=(test_traj_in.shape[0], num_pred_steps * 2))\n",
    "    print(test_pred_arr_reshaped.shape)\n",
    "\n",
    "    all_preds = np.r_[all_preds, test_pred_arr_reshaped]\n",
    "    city_col = np.r_[city_col, [str(i) + \"_\" + city_name for i in range(test_pred_arr.shape[0])]]"
   ]
  },
  {
   "cell_type": "code",
   "execution_count": null,
   "id": "cc676aa7",
   "metadata": {},
   "outputs": [],
   "source": [
    "sub_df = pd.DataFrame(np.c_[city_col, all_preds], columns=[np.r_[[\"ID\"], [\"v\" + str(i) for i in range(120)]]])\n",
    "sub_df.to_csv('./submissions/Neelay_test_1.csv', index=None)"
   ]
  },
  {
   "cell_type": "code",
   "execution_count": null,
   "id": "2c25be10",
   "metadata": {},
   "outputs": [],
   "source": []
  }
 ],
 "metadata": {
  "kernelspec": {
   "display_name": "Python 3 (ipykernel)",
   "language": "python",
   "name": "python3"
  },
  "language_info": {
   "codemirror_mode": {
    "name": "ipython",
    "version": 3
   },
   "file_extension": ".py",
   "mimetype": "text/x-python",
   "name": "python",
   "nbconvert_exporter": "python",
   "pygments_lexer": "ipython3",
   "version": "3.9.5"
  }
 },
 "nbformat": 4,
 "nbformat_minor": 5
}
